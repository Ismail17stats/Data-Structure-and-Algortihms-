{
 "cells": [
  {
   "cell_type": "markdown",
   "metadata": {},
   "source": [
    "**Node Class**\n",
    "Node class has a constructor that sets the data passed. \n",
    "\n",
    "It also has a str method to give a string representation for printing. \n",
    "\n",
    "Note that prev_node is only used for Doubly Linked Lists. "
   ]
  },
  {
   "cell_type": "code",
   "execution_count": 5,
   "metadata": {},
   "outputs": [],
   "source": [
    "class Node:\n",
    "    \n",
    "    def __init__ (self,d,n=None,p=None):\n",
    "        self.data = d\n",
    "        self.next_node = n\n",
    "        self.prev_node = p\n",
    "        \n",
    "    def __str__ (self):   #### string representation \n",
    "        return ('('+ str(self.data) +')')"
   ]
  },
  {
   "cell_type": "markdown",
   "metadata": {},
   "source": [
    "**LinkedList Class**\n",
    "add - find - remove - print_list"
   ]
  },
  {
   "cell_type": "code",
   "execution_count": 6,
   "metadata": {},
   "outputs": [],
   "source": [
    "class LinkedList:\n",
    "    \n",
    "    def __init__(self, r = None):  ### Two attributes:\n",
    "        self.root = r\n",
    "        self.size = 0\n",
    "    \n",
    "    def add(self, d):\n",
    "        new_node = Node(d, self.root)\n",
    "        self.root = new_node\n",
    "        self.size += 1\n",
    "        \n",
    "    def find(self,d):\n",
    "        this_node = self.root\n",
    "        while this_node is not None:\n",
    "            if this_node.data == d:\n",
    "                return d\n",
    "            else:\n",
    "                this_node = this_node.next_node\n",
    "        return None\n",
    "    \n",
    "    def remove(self,d):\n",
    "        this_node = self.root\n",
    "        prev_node = None\n",
    "        \n",
    "        while this_node is not None: \n",
    "            if this_node.data == d:\n",
    "                if prev_node is not None: # data is in non-root\n",
    "                    prev_node.next_node = this_node.next_node\n",
    "            else: # data is in root node\n",
    "                self.root = this_node.next_node\n",
    "            self.size -= 1\n",
    "            return True # data removed\n",
    "        else:\n",
    "            prev_node = this_node\n",
    "            this_node = this_node.next_node\n",
    "        return False #data not found \n",
    "    \n",
    "    \n",
    "    def print_list(self):\n",
    "        this_node = self.root\n",
    "        while this_node is not None:\n",
    "            print(this_node, end='->')\n",
    "            this_node = this_node.next_node\n",
    "        print('None')\n",
    "    \n",
    "    \n",
    "            \n",
    "        \n",
    "    \n",
    "    "
   ]
  },
  {
   "cell_type": "markdown",
   "metadata": {},
   "source": [
    "**LinkedList Test Code**"
   ]
  },
  {
   "cell_type": "code",
   "execution_count": 15,
   "metadata": {},
   "outputs": [
    {
     "name": "stdout",
     "output_type": "stream",
     "text": [
      "(56)->(12)->(8)->(5)->None\n",
      "(17)->(56)->(12)->(8)->(5)->None\n",
      "size:5\n",
      "8\n",
      "None\n",
      "(17)\n"
     ]
    }
   ],
   "source": [
    "myList = LinkedList()\n",
    "myList.add(5)\n",
    "myList.add(8)\n",
    "myList.add(12)\n",
    "myList.add(56)\n",
    "myList.print_list()\n",
    "\n",
    "myList.add(17)\n",
    "\n",
    "myList.print_list()\n",
    "\n",
    "print(\"size:\" +str(myList.size) )\n",
    "\n",
    "print(myList.find(8))\n",
    "print(myList.find(9))\n",
    "print(myList.root)"
   ]
  },
  {
   "cell_type": "markdown",
   "metadata": {},
   "source": [
    "**Circular Linked List**\n",
    "\n",
    "Includes attributes root and size.\n",
    "Includes methods add, find, remove, and print_list."
   ]
  },
  {
   "cell_type": "code",
   "execution_count": 34,
   "metadata": {},
   "outputs": [],
   "source": [
    "class CircularLinkedList:\n",
    "    \n",
    "    def __init__ (self, r = None):\n",
    "        self.root = r\n",
    "        self.size = 0\n",
    "        \n",
    "    def add(self,d):\n",
    "        if self.size == 0:\n",
    "            self.root = Node(d)\n",
    "            self.root.next_node = self.root\n",
    "        else:\n",
    "            new_node = Node(d,self.root.next_node)\n",
    "            self.root.next_node = new_node\n",
    "        self.size += 1\n",
    "        \n",
    "    def find(self, d):\n",
    "        this_node = self.root\n",
    "        while True:\n",
    "            if this_node.data == d:\n",
    "                return d\n",
    "            elif this_node.next_node == self.root:\n",
    "                return False\n",
    "            this_node = this_node.next_node\n",
    "    \n",
    "    def remove (self, d):\n",
    "        this_node = self.root\n",
    "        prev_node = None\n",
    "        \n",
    "        while True:\n",
    "            if this_node.data == d: # found\n",
    "                if prev_node is not None:\n",
    "                    prev_node.next_node = this_node.next_node\n",
    "                else:\n",
    "                    while this_node.next_node != self.root:\n",
    "                        this_node = this_node.next_node\n",
    "                    this_node.next_node = self.root.next_node\n",
    "                    self.root = self.root.next_node\n",
    "                self.size -= 1 ### decrement the size\n",
    "                return True   ## data removed\n",
    "            elif this_node.next_node == self.root:\n",
    "                return False\n",
    "            prev_node = this_node\n",
    "            this_node = this_node.next_node\n",
    "      \n",
    "    def print_list(self):\n",
    "        if self.root is None:\n",
    "            return\n",
    "        this_node = self.root\n",
    "        print (this_node, end = '->')\n",
    "        while this_node.next_node != self.root:\n",
    "            this_node = this_node.next_node\n",
    "            print (this_node, end='->')\n",
    "        print()"
   ]
  },
  {
   "cell_type": "markdown",
   "metadata": {},
   "source": [
    "**Circular Linked List Test Code**"
   ]
  },
  {
   "cell_type": "code",
   "execution_count": 35,
   "metadata": {},
   "outputs": [
    {
     "name": "stdout",
     "output_type": "stream",
     "text": [
      "size:5\n",
      "9\n",
      "False\n",
      "(5)->(17)->(9)->(8)->(7)->(5)->(17)->(9)->(8)->\n"
     ]
    }
   ],
   "source": [
    "cll = CircularLinkedList()\n",
    "for i in [5,7,8,9,17]:\n",
    "    cll.add(i)\n",
    "\n",
    "print(\"size:\" + str(cll.size))\n",
    "print(cll.find(9))\n",
    "print(cll.find(12))\n",
    "\n",
    "my_node = cll.root\n",
    "print(my_node, end='->')\n",
    "for i in range(8):\n",
    "    my_node = my_node.next_node\n",
    "    print(my_node, end='->')\n",
    "print()"
   ]
  },
  {
   "cell_type": "code",
   "execution_count": 37,
   "metadata": {},
   "outputs": [
    {
     "name": "stdout",
     "output_type": "stream",
     "text": [
      "(5)->(17)->(9)->(7)->\n",
      "size:4\n",
      "False\n",
      "(5)->(17)->(9)->(7)->\n"
     ]
    }
   ],
   "source": [
    "cll.print_list()\n",
    "cll.remove(8)\n",
    "print(\"size:\" + str(cll.size))\n",
    "print(cll.remove(12))\n",
    "cll.print_list()"
   ]
  },
  {
   "cell_type": "markdown",
   "metadata": {},
   "source": [
    "**Doubly Linked List**"
   ]
  },
  {
   "cell_type": "code",
   "execution_count": 53,
   "metadata": {},
   "outputs": [],
   "source": [
    "class DoublyLinkedList:\n",
    "    def __init__ (self, r = None):\n",
    "        self.root = r\n",
    "        self.last = r\n",
    "        self.size = 0\n",
    "    \n",
    "    def add(self,d):\n",
    "        if self.size == 0:\n",
    "            self.root = Node(d)\n",
    "            self.last = self.root\n",
    "        else:\n",
    "            new_node = Node(d, self.root)\n",
    "            self.root.prev_node = new_node\n",
    "            self.root = new_node\n",
    "        self.size += 1\n",
    "    \n",
    "    def find(self,d):\n",
    "        this_node = self.root\n",
    "        while this_node is not None:\n",
    "            if this_node.data == d:\n",
    "                return d\n",
    "            elif this_node.next_node == None:\n",
    "                return False\n",
    "            else:\n",
    "                this_node = this_node.next_node\n",
    "                \n",
    "    def remove(self, d):\n",
    "        this_node = self.root\n",
    "        while this_node is not None:\n",
    "            if this_node.data == d:\n",
    "                if this_node.prev_node is not None:\n",
    "                    if this_node.next_node is not None: # delete a middle node\n",
    "                        this_node.prev_node.next_node = this_node.next_node\n",
    "                        this_node.next_node.prev_node = this_node.prev_node\n",
    "                    else: # delete last node\n",
    "                        this_node.prev_node.next_node = None\n",
    "                        self.last = this_node.prev_node\n",
    "                else: # delete root node\n",
    "                    self.root = this_node.next_node\n",
    "                    this_node.next_node.prev_node = self.root\n",
    "                self.size -= 1\n",
    "                return True # data removed\n",
    "            else:\n",
    "                this_node = this_node.next_node\n",
    "        return False # data not found \n",
    "    \n",
    "    def print_list(self):\n",
    "        if self.root is None:\n",
    "            return\n",
    "        this_node = self.root\n",
    "        print (this_node, end = '->')\n",
    "        while this_node.next_node is not None:\n",
    "            this_node = this_node.next_node\n",
    "            print (this_node, end='->')\n",
    "        print()"
   ]
  },
  {
   "cell_type": "markdown",
   "metadata": {},
   "source": [
    "**Doubly Linked List Test Code**"
   ]
  },
  {
   "cell_type": "code",
   "execution_count": 54,
   "metadata": {},
   "outputs": [
    {
     "name": "stdout",
     "output_type": "stream",
     "text": [
      "size:6\n",
      "(25)->(18)->(9)->(3)->(6)->(5)->\n",
      "True\n",
      "(25)->(18)->(3)->(6)->(5)->\n"
     ]
    }
   ],
   "source": [
    "dll = DoublyLinkedList()\n",
    "for i in [5,6,3,9,18,25]:\n",
    "    dll.add(i)\n",
    "    \n",
    "print(\"size:\" + str(dll.size))\n",
    "dll.print_list()\n",
    "print(dll.remove(9))\n",
    "dll.print_list()"
   ]
  },
  {
   "cell_type": "code",
   "execution_count": 60,
   "metadata": {},
   "outputs": [
    {
     "name": "stdout",
     "output_type": "stream",
     "text": [
      "False\n",
      "False\n",
      "18\n",
      "(21)->(21)->(21)->(21)->(25)->(18)->(3)->(6)->(5)->\n",
      "(5)\n"
     ]
    }
   ],
   "source": [
    "print(dll.remove(15))\n",
    "print(dll.find(15))\n",
    "print(dll.find(18))\n",
    "dll.add(21)\n",
    "dll.print_list()\n",
    "print(dll.last)"
   ]
  },
  {
   "cell_type": "code",
   "execution_count": null,
   "metadata": {},
   "outputs": [],
   "source": []
  }
 ],
 "metadata": {
  "kernelspec": {
   "display_name": "Python 3",
   "language": "python",
   "name": "python3"
  },
  "language_info": {
   "codemirror_mode": {
    "name": "ipython",
    "version": 3
   },
   "file_extension": ".py",
   "mimetype": "text/x-python",
   "name": "python",
   "nbconvert_exporter": "python",
   "pygments_lexer": "ipython3",
   "version": "3.7.4"
  }
 },
 "nbformat": 4,
 "nbformat_minor": 2
}
