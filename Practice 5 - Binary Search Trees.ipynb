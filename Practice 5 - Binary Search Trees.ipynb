{
 "cells": [
  {
   "cell_type": "markdown",
   "metadata": {},
   "source": [
    "****Binary Search  Tree****\n",
    "\n",
    "*Constructor* : sets three attributes; data, left subtree, right subtree\n",
    "\n",
    "*Insert*: inserts a new subtree into a proper location\n",
    "\n",
    "*Find*: finds a value. If value not found, returns False.\n",
    "\n",
    "*Get_size*: returns the number of nodes in the tree.\n",
    "\n",
    "*Preorder*: prints a preoder traversal of the tree.\n",
    "\n",
    "*Inorder*: prints an inorder traversal of the tree"
   ]
  },
  {
   "cell_type": "code",
   "execution_count": 7,
   "metadata": {},
   "outputs": [],
   "source": [
    "class Tree:\n",
    "    def __init__(self, data, left = None, right = None):\n",
    "        self.data = data\n",
    "        self.left = left\n",
    "        self.right = right\n",
    "    def insert(self, data):\n",
    "        if self.data == data:\n",
    "            return False # duplicate value\n",
    "        elif self.data > data:\n",
    "            if self.left is not None:\n",
    "                return self.left.insert(data)\n",
    "            else:\n",
    "                self.left = Tree(data)\n",
    "                return True\n",
    "        else:\n",
    "            if self.right is not None:\n",
    "                return self.right.insert(data)\n",
    "            else:\n",
    "                self.right = Tree(data)\n",
    "                return True\n",
    "    def find(self, data):\n",
    "        if self.data == data:\n",
    "            return data\n",
    "        elif self.data > data:\n",
    "            if self.left is None:\n",
    "                return False\n",
    "            else:\n",
    "                return self.left.find(data)\n",
    "        elif self.data < data:\n",
    "            if self.right is None:\n",
    "                return False\n",
    "            else:\n",
    "                return self.right.find(data)\n",
    "    \n",
    "    def get_size(self):\n",
    "        if self.left is not None and self.right is not None:\n",
    "            return 1 + self.left.get_size() + self.right.get_size()\n",
    "        elif self.left:\n",
    "            return 1 + self.left.get_size()\n",
    "        elif self.right:\n",
    "            return 1 + self.right.get_size()\n",
    "        else:\n",
    "            return 1\n",
    "    \n",
    "    def preorder(self):\n",
    "        if self is not None:\n",
    "            print(self.data, end=' ')\n",
    "            if self.left is not None:\n",
    "                self.left.preorder()\n",
    "            if self.right:\n",
    "                self.right.preorder()\n",
    "                \n",
    "    def inorder(self):\n",
    "        if self is not None:\n",
    "            if self.left is not None:\n",
    "                self.left.inorder()\n",
    "            print(self.data, end=' ')\n",
    "            if self.right is not None:\n",
    "                self.right.inorder()\n",
    "            "
   ]
  },
  {
   "cell_type": "markdown",
   "metadata": {},
   "source": [
    "**Test Code**"
   ]
  },
  {
   "cell_type": "code",
   "execution_count": 10,
   "metadata": {},
   "outputs": [
    {
     "name": "stdout",
     "output_type": "stream",
     "text": [
      "False False False False False 5 6 7 8 9 False False False 13 14 15 False False False False \n",
      " 13\n"
     ]
    }
   ],
   "source": [
    "bst = Tree(7)\n",
    "bst.insert(9)\n",
    "\n",
    "for i in [15,13,20,23,36,6,9,8,78,14,5,45]:\n",
    "    bst.insert(i)\n",
    "    \n",
    "for i in range(20):\n",
    "    print(bst.find(i), end=' ')\n",
    "print('\\n', bst.get_size())"
   ]
  },
  {
   "cell_type": "code",
   "execution_count": 13,
   "metadata": {},
   "outputs": [
    {
     "name": "stdout",
     "output_type": "stream",
     "text": [
      "7 6 5 9 8 15 13 14 20 23 36 78 45 "
     ]
    }
   ],
   "source": [
    "bst.preorder()\n"
   ]
  },
  {
   "cell_type": "code",
   "execution_count": 12,
   "metadata": {},
   "outputs": [
    {
     "name": "stdout",
     "output_type": "stream",
     "text": [
      "5 6 7 8 9 13 14 15 20 23 36 45 78 "
     ]
    }
   ],
   "source": [
    "bst.inorder()"
   ]
  }
 ],
 "metadata": {
  "kernelspec": {
   "display_name": "Python 3",
   "language": "python",
   "name": "python3"
  },
  "language_info": {
   "codemirror_mode": {
    "name": "ipython",
    "version": 3
   },
   "file_extension": ".py",
   "mimetype": "text/x-python",
   "name": "python",
   "nbconvert_exporter": "python",
   "pygments_lexer": "ipython3",
   "version": "3.7.4"
  }
 },
 "nbformat": 4,
 "nbformat_minor": 2
}
